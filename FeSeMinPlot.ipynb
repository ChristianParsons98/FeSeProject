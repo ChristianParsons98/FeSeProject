{
 "cells": [
  {
   "cell_type": "code",
   "execution_count": 1,
   "id": "1b076d52",
   "metadata": {},
   "outputs": [],
   "source": [
    "# Authors: Christian Parsons, Adil Amin. UWM April 2023"
   ]
  },
  {
   "cell_type": "code",
   "execution_count": 2,
   "id": "3ee4be4b",
   "metadata": {},
   "outputs": [],
   "source": [
    "#importing packages used in this code. Change\n",
    "import numpy as np\n",
    "import scipy.optimize\n",
    "import sympy\n",
    "import matplotlib.pyplot as plt\n",
    "from sympy.solvers import solve\n",
    "from sympy import symbols,Eq,solve\n",
    "from sympy.vector import gradient\n",
    "from mpl_toolkits import mplot3d"
   ]
  },
  {
   "cell_type": "code",
   "execution_count": 3,
   "id": "acb426be",
   "metadata": {},
   "outputs": [],
   "source": [
    "#These are my energy functions. plus has a + between the first and second term, \n",
    "#minus has a - between the first and second term is my function for Energy with a +\n",
    "def Eplus(k,t):\n",
    "    return alpha*k*np.cos(t) + np.sqrt(beta*(k**2.-1.)**2 +np.cos(phi)**2 - np.sin(phi)**2 * np.cos(4.*t))\n",
    "\n",
    "def Eminus(k,t):\n",
    "    return alpha*k*np.cos(t) - np.sqrt(beta*(k**2.-1.)**2 +np.cos(phi)**2 - np.sin(phi)**2 * np.cos(4.*t))"
   ]
  },
  {
   "cell_type": "code",
   "execution_count": 4,
   "id": "d7f40a5a",
   "metadata": {},
   "outputs": [],
   "source": [
    "#define the parameters here\n",
    "beta=5.0\n",
    "phi=0.96*np.pi/4.\n",
    "alpha=0.95"
   ]
  },
  {
   "cell_type": "code",
   "execution_count": 8,
   "id": "afb19e02",
   "metadata": {},
   "outputs": [
    {
     "data": {
      "text/plain": [
       "[]"
      ]
     },
     "execution_count": 8,
     "metadata": {},
     "output_type": "execute_result"
    },
    {
     "data": {
      "image/png": "[encoded data removed]",
      "text/plain": [
       "<Figure size 432x288 with 1 Axes>"
      ]
     },
     "metadata": {
      "needs_background": "light"
     },
     "output_type": "display_data"
    }
   ],
   "source": [
    "tList=np.linspace(0,2.*np.pi,400)\n",
    "minList = np.zeros(400)\n",
    "for i in range(len(tList)):\n",
    "    tTest=np.full(10000,tList[i])\n",
    "    kTest = np.linspace(.0,2.,10000)\n",
    "    allRes=np.append(Eplus(kTest,tTest),Eminus(kTest,tTest))\n",
    "    allRes=np.absolute(allRes)\n",
    "    mymin=min(allRes)\n",
    "    minList[i]=mymin\n",
    "    \n",
    "plt.scatter(tList,minList)\n",
    "plt.title(r'FeSe$_{1-x}$S$_{x}$ Minimum E vs. $\\phi$')\n",
    "plt.ylabel('Minimum E')\n",
    "plt.xlabel(r'$\\phi$')\n",
    "plt.savefig('FeSeSx_MinEvPhi.jpg',dpi=1200)\n",
    "plt.plot()"
   ]
  },
  {
   "cell_type": "code",
   "execution_count": null,
   "id": "8c6f7fe4",
   "metadata": {},
   "outputs": [],
   "source": []
  }
 ],
 "metadata": {
  "kernelspec": {
   "display_name": "Python 3",
   "language": "python",
   "name": "python3"
  },
  "language_info": {
   "codemirror_mode": {
    "name": "ipython",
    "version": 3
   },
   "file_extension": ".py",
   "mimetype": "text/x-python",
   "name": "python",
   "nbconvert_exporter": "python",
   "pygments_lexer": "ipython3",
   "version": "3.8.8"
  }
 },
 "nbformat": 4,
 "nbformat_minor": 5
}
