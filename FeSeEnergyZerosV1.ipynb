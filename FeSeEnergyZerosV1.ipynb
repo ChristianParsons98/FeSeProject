{
 "cells": [
  {
   "cell_type": "code",
   "execution_count": 31,
   "id": "9871f71f",
   "metadata": {},
   "outputs": [],
   "source": [
    "# Authors: Christian Parsons, Adil Amin. UWM April 2023\n",
    "# For Adil to Change \n",
    "# Test change"
   ]
  },
  {
   "cell_type": "code",
   "execution_count": 32,
   "id": "d712b3af",
   "metadata": {},
   "outputs": [],
   "source": [
    "#importing packages used in this code.\n",
    "import numpy as np\n",
    "import scipy.optimize\n",
    "import sympy\n",
    "import matplotlib.pyplot as plt\n",
    "from sympy.solvers import solve\n",
    "from sympy import symbols,Eq,solve\n",
    "from sympy.vector import gradient\n",
    "from mpl_toolkits import mplot3d"
   ]
  },
  {
   "cell_type": "code",
   "execution_count": 33,
   "id": "438a96e7",
   "metadata": {},
   "outputs": [],
   "source": [
    "#These are my energy functions. plus has a + between the first and second term, \n",
    "#minus has a - between the first and second term is my function for Energy with a +\n",
    "def Eplus(k,t):\n",
    "    return alpha*k*np.cos(t) + np.sqrt(beta*(k**2.-1.)**2 +np.cos(phi)**2 - np.sin(phi)**2 * np.cos(4.*t))\n",
    "\n",
    "def Eminus(k,t):\n",
    "    return alpha*k*np.cos(t) - np.sqrt(beta*(k**2.-1.)**2 +np.cos(phi)**2 - np.sin(phi)**2 * np.cos(4.*t))"
   ]
  },
  {
   "cell_type": "code",
   "execution_count": 34,
   "id": "451d36bc",
   "metadata": {},
   "outputs": [],
   "source": [
    "#define the parameters here\n",
    "beta=5.0\n",
    "phi=0.96*np.pi/4.\n",
    "alpha=0.95"
   ]
  },
  {
   "cell_type": "code",
   "execution_count": null,
   "id": "22735eeb",
   "metadata": {},
   "outputs": [],
   "source": []
  },
  {
   "cell_type": "code",
   "execution_count": 35,
   "id": "bb440144",
   "metadata": {},
   "outputs": [],
   "source": [
    "#generating k values between 0.8 and 1.2 for contour plotting.\n",
    "x = np.linspace(.5, 1.5, 1000)\n",
    "#generating theta values between 0 and 2*pi for contour plotting.\n",
    "y = np.linspace(0, 2.*np.pi, 1000)\n",
    "X, Y = np.meshgrid(x, y) #creating a mesh grid for the contour plot.\n",
    "Z1 = Eplus(X, Y) #evaluate Eplus at the mesh grid points\n",
    "Z2 = Eminus(X, Y) #evaluate Eminus at the mesh grid points"
   ]
  },
  {
   "cell_type": "code",
   "execution_count": 36,
   "id": "87e8fa5f",
   "metadata": {},
   "outputs": [
    {
     "data": {
      "image/png": "[encoded data removed]",
      "text/plain": [
       "<Figure size 432x288 with 1 Axes>"
      ]
     },
     "metadata": {
      "needs_background": "light"
     },
     "output_type": "display_data"
    }
   ],
   "source": [
    "#Plotting the E=0 contours of EPlus and EMinus\n",
    "fig, ax = plt.subplots()\n",
    "CS = ax.contour(X, Y, Z1, [0.0])\n",
    "CS2 = ax.contour(X, Y, Z2, [0.0])\n",
    "ax.set_title('E=0 contour for Eplus and Eminus')\n",
    "ax.set_xlabel(r'$k$')\n",
    "ax.set_ylabel(r'$\\theta$')\n",
    "plt.show()"
   ]
  },
  {
   "cell_type": "code",
   "execution_count": 37,
   "id": "e38410f9",
   "metadata": {},
   "outputs": [],
   "source": [
    "#Collecting all of the x and y coordinates for the E=0 contour in k, theta space\n",
    "xpts=[]\n",
    "ypts=[]\n",
    "for items in CS.collections:\n",
    "    for i in items.get_paths():\n",
    "        v1 = i.vertices\n",
    "        xpts.extend(v1[:, 0])\n",
    "        ypts.extend(v1[:, 1])\n",
    "for items in CS2.collections:\n",
    "    for i in items.get_paths():\n",
    "        v1 = i.vertices\n",
    "        xpts.extend(v1[:, 0])\n",
    "        ypts.extend(v1[:, 1])\n",
    "#Converting the lists to numpy arrays\n",
    "xpts=np.asarray(xpts,dtype=np.float32)\n",
    "ypts=np.asarray(ypts,dtype=np.float32)"
   ]
  },
  {
   "cell_type": "code",
   "execution_count": 38,
   "id": "d26efd8c",
   "metadata": {},
   "outputs": [],
   "source": [
    "#Converting from polar to cart coords\n",
    "xcart=xpts*np.cos(ypts)\n",
    "ycart=xpts*np.sin(ypts)"
   ]
  },
  {
   "cell_type": "code",
   "execution_count": 57,
   "id": "4d2b071d",
   "metadata": {},
   "outputs": [],
   "source": [
    "#Generating the Normal Fermi Surface\n",
    "#In polar coordinates\n",
    "rnorm=np.full(50,1.)\n",
    "thnorm=np.linspace(0.,2.*np.pi,50)\n",
    "#converting to cartesian\n",
    "xnormc=rnorm*np.cos(thnorm)\n",
    "ynormc=rnorm*np.sin(thnorm)"
   ]
  },
  {
   "cell_type": "code",
   "execution_count": 62,
   "id": "d0853acc",
   "metadata": {},
   "outputs": [
    {
     "data": {
      "text/plain": [
       "[]"
      ]
     },
     "execution_count": 62,
     "metadata": {},
     "output_type": "execute_result"
    },
    {
     "data": {
      "image/png": "[encoded data removed]",
      "text/plain": [
       "<Figure size 432x288 with 1 Axes>"
      ]
     },
     "metadata": {
      "needs_background": "light"
     },
     "output_type": "display_data"
    }
   ],
   "source": [
    "plt.scatter(xcart,ycart)\n",
    "plt.scatter(xnormc,ynormc)\n",
    "plt.grid()\n",
    "plt.rc('axes', axisbelow=True)\n",
    "plt.gca().set_aspect('equal')\n",
    "plt.xlim(-1.5,1.5)\n",
    "plt.ylim(-1.5,1.5)\n",
    "plt.title(r'FeSe$_{1-x}$S$_{x}$ Bogoliubov Fermi Surfaces')\n",
    "plt.xlabel(r'$k_{x}$')\n",
    "plt.ylabel(r'$k_{y}$')\n",
    "plt.savefig('FeSeS_BFS.jpg',dpi=1200)\n",
    "plt.plot()"
   ]
  },
  {
   "cell_type": "code",
   "execution_count": null,
   "id": "2521ec45",
   "metadata": {},
   "outputs": [],
   "source": []
  },
  {
   "cell_type": "code",
   "execution_count": null,
   "id": "7af8facb",
   "metadata": {},
   "outputs": [],
   "source": []
  }
 ],
 "metadata": {
  "kernelspec": {
   "display_name": "Python 3",
   "language": "python",
   "name": "python3"
  },
  "language_info": {
   "codemirror_mode": {
    "name": "ipython",
    "version": 3
   },
   "file_extension": ".py",
   "mimetype": "text/x-python",
   "name": "python",
   "nbconvert_exporter": "python",
   "pygments_lexer": "ipython3",
   "version": "3.8.8"
  }
 },
 "nbformat": 4,
 "nbformat_minor": 5
}
