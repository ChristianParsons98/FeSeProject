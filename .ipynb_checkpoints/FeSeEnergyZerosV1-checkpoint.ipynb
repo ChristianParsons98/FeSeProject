{
 "cells": [
  {
   "cell_type": "code",
   "execution_count": 1,
   "id": "9871f71f",
   "metadata": {},
   "outputs": [],
   "source": [
    "# Authors: Christian Parsons, Adil Amin. UWM April 2023"
   ]
  },
  {
   "cell_type": "code",
   "execution_count": 9,
   "id": "d712b3af",
   "metadata": {},
   "outputs": [],
   "source": [
    "import numpy as np\n",
    "import scipy.optimize\n",
    "import sympy\n",
    "import matplotlib.pyplot as plt\n",
    "from sympy.solvers import solve\n",
    "from sympy import symbols,Eq,solve\n",
    "from sympy.vector import gradient\n",
    "from mpl_toolkits import mplot3d"
   ]
  },
  {
   "cell_type": "code",
   "execution_count": null,
   "id": "def878d1",
   "metadata": {},
   "outputs": [],
   "source": [
    "#test change"
   ]
  },
  {
   "cell_type": "code",
   "execution_count": 564,
   "id": "438a96e7",
   "metadata": {},
   "outputs": [],
   "source": [
    "#This is my function for Energy with a +\n",
    "def Eplus(k,t):\n",
    "    return alpha*k*np.cos(t) + np.sqrt(beta*(k**2.-1.)**2 +np.cos(phi)**2 - np.sin(phi)**2 * np.cos(4.*t))"
   ]
  },
  {
   "cell_type": "code",
   "execution_count": 565,
   "id": "e713506a",
   "metadata": {},
   "outputs": [],
   "source": [
    "#This is my function for Energy with a -\n",
    "def Eminus(k,t):\n",
    "    return alpha*k*np.cos(t) - np.sqrt(beta*(k**2.-1.)**2 +np.cos(phi)**2 - np.sin(phi)**2 * np.cos(4.*t))"
   ]
  },
  {
   "cell_type": "code",
   "execution_count": 628,
   "id": "451d36bc",
   "metadata": {},
   "outputs": [],
   "source": [
    "#define the parameters here\n",
    "beta=5.0\n",
    "phi=0.8*np.pi/4.\n",
    "alpha=0.6\n"
   ]
  },
  {
   "cell_type": "code",
   "execution_count": 619,
   "id": "bf04afc0",
   "metadata": {},
   "outputs": [
    {
     "data": {
      "text/plain": [
       "0.031410759078128396"
      ]
     },
     "execution_count": 619,
     "metadata": {},
     "output_type": "execute_result"
    }
   ],
   "source": [
    "np.cos(2.*phi)"
   ]
  },
  {
   "cell_type": "code",
   "execution_count": null,
   "id": "d7a8dbae",
   "metadata": {},
   "outputs": [],
   "source": []
  },
  {
   "cell_type": "code",
   "execution_count": null,
   "id": "22735eeb",
   "metadata": {},
   "outputs": [],
   "source": []
  },
  {
   "cell_type": "code",
   "execution_count": 620,
   "id": "bb440144",
   "metadata": {},
   "outputs": [],
   "source": [
    "#this is k\n",
    "x = np.linspace(.8, 1.2, 1000)\n",
    "#this is t\n",
    "y = np.linspace(0, 2.*np.pi, 1000)\n",
    "\n",
    "X, Y = np.meshgrid(x, y)\n",
    "Z1 = Eplus(X, Y)\n",
    "Z2 = Eminus(X, Y)\n"
   ]
  },
  {
   "cell_type": "code",
   "execution_count": 621,
   "id": "87e8fa5f",
   "metadata": {},
   "outputs": [
    {
     "data": {
      "image/png": "[encoded data removed]",
      "text/plain": [
       "<Figure size 432x288 with 1 Axes>"
      ]
     },
     "metadata": {
      "needs_background": "light"
     },
     "output_type": "display_data"
    }
   ],
   "source": [
    "fig, ax = plt.subplots()\n",
    "CS = ax.contour(X, Y, Z2, [0.0])\n",
    "#CS = ax.contour(X, Y, Z1, [0.0])\n",
    "CS2 = ax.contour(X, Y, Z1, [0.0])\n",
    "#ax.clabel(CS, inline=True, fontsize=10)\n",
    "ax.set_title('Simplest default with labels')\n",
    "#plt.ylim(2,4)\n",
    "plt.show()"
   ]
  },
  {
   "cell_type": "code",
   "execution_count": 570,
   "id": "e38410f9",
   "metadata": {},
   "outputs": [],
   "source": [
    "x4=[]\n",
    "y4=[]\n",
    "for items in CS.collections:\n",
    "    for i in items.get_paths():\n",
    "        v1 = i.vertices\n",
    "        x4.extend(v1[:, 0])\n",
    "        y4.extend(v1[:, 1])\n",
    "        #print(x4, y4)"
   ]
  },
  {
   "cell_type": "code",
   "execution_count": null,
   "id": "abc8ef9f",
   "metadata": {},
   "outputs": [],
   "source": []
  },
  {
   "cell_type": "code",
   "execution_count": null,
   "id": "d6133cfa",
   "metadata": {},
   "outputs": [],
   "source": []
  },
  {
   "cell_type": "code",
   "execution_count": 571,
   "id": "f86ef6a7",
   "metadata": {},
   "outputs": [],
   "source": [
    "x5=[]\n",
    "y5=[]\n",
    "for items in CS2.collections:\n",
    "    for i in items.get_paths():\n",
    "        v2 = i.vertices\n",
    "        x5.extend(v2[:, 0])\n",
    "        y5.extend(v2[:, 1])\n",
    "      #print(x5, y5)"
   ]
  },
  {
   "cell_type": "code",
   "execution_count": 572,
   "id": "33baee45",
   "metadata": {},
   "outputs": [
    {
     "data": {
      "image/png": "[encoded data removed]",
      "text/plain": [
       "<Figure size 432x288 with 1 Axes>"
      ]
     },
     "metadata": {
      "needs_background": "light"
     },
     "output_type": "display_data"
    }
   ],
   "source": [
    "plt.scatter(x4,y4)\n",
    "plt.scatter(x5,y5)\n",
    "plt.ylim(-.5,7.)\n",
    "plt.show()"
   ]
  },
  {
   "cell_type": "code",
   "execution_count": 550,
   "id": "d70a1a63",
   "metadata": {},
   "outputs": [],
   "source": [
    "#converting python lists to numpy arrays\n",
    "x4a=np.asarray(x4,dtype=np.float32)\n",
    "y4a=np.asarray(y4,dtype=np.float32)\n",
    "x5a=np.asarray(x5,dtype=np.float32)\n",
    "y5a=np.asarray(y5,dtype=np.float32)"
   ]
  },
  {
   "cell_type": "code",
   "execution_count": 551,
   "id": "d26efd8c",
   "metadata": {},
   "outputs": [],
   "source": [
    "#Converting from polar to cart coords\n",
    "kx4=x4a*np.cos(y4a)\n",
    "ky4=x4a*np.sin(y4a)\n",
    "kx5=x5a*np.cos(y5a)\n",
    "ky5=x5a*np.sin(y5a)"
   ]
  },
  {
   "cell_type": "code",
   "execution_count": 553,
   "id": "d0853acc",
   "metadata": {},
   "outputs": [
    {
     "data": {
      "text/plain": [
       "[]"
      ]
     },
     "execution_count": 553,
     "metadata": {},
     "output_type": "execute_result"
    },
    {
     "data": {
      "image/png": "[encoded data removed]",
      "text/plain": [
       "<Figure size 432x288 with 1 Axes>"
      ]
     },
     "metadata": {
      "needs_background": "light"
     },
     "output_type": "display_data"
    }
   ],
   "source": [
    "plt.scatter(kx4,ky4)\n",
    "plt.scatter(kx5,ky5)\n",
    "plt.xlim(-1.5,1.5)\n",
    "plt.ylim(-1.5,1.5)\n",
    "plt.plot()"
   ]
  },
  {
   "cell_type": "code",
   "execution_count": null,
   "id": "b2ce5626",
   "metadata": {},
   "outputs": [],
   "source": []
  },
  {
   "cell_type": "code",
   "execution_count": null,
   "id": "118e6b0f",
   "metadata": {},
   "outputs": [],
   "source": [
    "x = np.linspace(.9, 1.1, 4000)\n",
    "y = np.linspace(0, 2.*np.pi, 4000)"
   ]
  },
  {
   "cell_type": "code",
   "execution_count": null,
   "id": "04460819",
   "metadata": {},
   "outputs": [],
   "source": [
    "print(min(Eplus(x,y)))\n",
    "print(max(Eminus(x,y)))"
   ]
  },
  {
   "cell_type": "code",
   "execution_count": null,
   "id": "3d976e5f",
   "metadata": {},
   "outputs": [],
   "source": []
  },
  {
   "cell_type": "code",
   "execution_count": null,
   "id": "326d70ed",
   "metadata": {},
   "outputs": [],
   "source": []
  },
  {
   "cell_type": "code",
   "execution_count": null,
   "id": "a2210a6c",
   "metadata": {},
   "outputs": [],
   "source": [
    "#####\n",
    "# Now we are trying to plot the minimum magnitude of E for different theta\n",
    "#####"
   ]
  },
  {
   "cell_type": "code",
   "execution_count": 500,
   "id": "0ca00227",
   "metadata": {},
   "outputs": [
    {
     "name": "stdout",
     "output_type": "stream",
     "text": [
      "[0. 0. 0. 0. 0.]\n"
     ]
    }
   ],
   "source": [
    "tTest=np.full(5,0.0)\n",
    "print(tTest)"
   ]
  },
  {
   "cell_type": "code",
   "execution_count": 516,
   "id": "22aa1462",
   "metadata": {},
   "outputs": [
    {
     "name": "stdout",
     "output_type": "stream",
     "text": [
      "9.84826166994246e-06\n"
     ]
    }
   ],
   "source": [
    "tTest=np.full(10000,0.0)\n",
    "kTest = np.linspace(.5,1.5,10000)\n",
    "allRes=np.append(Eplus(kTest,tTest),Eminus(kTest,tTest))\n",
    "allRes=np.absolute(allRes)\n",
    "mymin=min(allRes)\n",
    "print(mymin)"
   ]
  },
  {
   "cell_type": "code",
   "execution_count": 527,
   "id": "18189ae7",
   "metadata": {},
   "outputs": [
    {
     "name": "stdout",
     "output_type": "stream",
     "text": [
      "[0. 0. 0. 0. 0.]\n"
     ]
    }
   ],
   "source": [
    "xyz=np.zeros(5)\n",
    "print(xyz)"
   ]
  },
  {
   "cell_type": "code",
   "execution_count": 629,
   "id": "f7ce78ff",
   "metadata": {},
   "outputs": [],
   "source": [
    "tList=np.linspace(0,2.*np.pi,200)\n",
    "minList = np.zeros(200)\n",
    "for i in range(len(tList)):\n",
    "    tTest=np.full(10000,tList[i])\n",
    "    kTest = np.linspace(.0,2.,10000)\n",
    "    allRes=np.append(Eplus(kTest,tTest),Eminus(kTest,tTest))\n",
    "    allRes=np.absolute(allRes)\n",
    "    mymin=min(allRes)\n",
    "    minList[i]=mymin"
   ]
  },
  {
   "cell_type": "code",
   "execution_count": 630,
   "id": "717c3bf0",
   "metadata": {},
   "outputs": [
    {
     "data": {
      "text/plain": [
       "[]"
      ]
     },
     "execution_count": 630,
     "metadata": {},
     "output_type": "execute_result"
    },
    {
     "data": {
      "image/png": "[encoded data removed]",
      "text/plain": [
       "<Figure size 432x288 with 1 Axes>"
      ]
     },
     "metadata": {
      "needs_background": "light"
     },
     "output_type": "display_data"
    }
   ],
   "source": [
    "plt.scatter(tList,minList)\n",
    "plt.plot()"
   ]
  },
  {
   "cell_type": "code",
   "execution_count": null,
   "id": "2521ec45",
   "metadata": {},
   "outputs": [],
   "source": []
  }
 ],
 "metadata": {
  "kernelspec": {
   "display_name": "Python 3 (ipykernel)",
   "language": "python",
   "name": "python3"
  },
  "language_info": {
   "codemirror_mode": {
    "name": "ipython",
    "version": 3
   },
   "file_extension": ".py",
   "mimetype": "text/x-python",
   "name": "python",
   "nbconvert_exporter": "python",
   "pygments_lexer": "ipython3",
   "version": "3.11.2"
  }
 },
 "nbformat": 4,
 "nbformat_minor": 5
}
